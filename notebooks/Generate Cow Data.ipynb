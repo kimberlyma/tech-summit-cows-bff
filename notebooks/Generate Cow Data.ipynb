{
 "cells": [
  {
   "cell_type": "markdown",
   "metadata": {
    "application/vnd.databricks.v1+cell": {
     "cellMetadata": {},
     "inputWidgets": {},
     "nuid": "0bd299c9-e464-4bf0-af6c-11844ed273ba",
     "showTitle": false,
     "title": ""
    }
   },
   "source": [
    "## First we initialize our globals"
   ]
  },
  {
   "cell_type": "markdown",
   "metadata": {
    "application/vnd.databricks.v1+cell": {
     "cellMetadata": {},
     "inputWidgets": {},
     "nuid": "88114a18-839a-46af-91e7-ede94c8094b3",
     "showTitle": false,
     "title": ""
    }
   },
   "source": [
    "Inititalizes the `db.cow_bff` table with sample cow eating time data.\n",
    "\n",
    "Run this notebook from the web UI or by executing the `Databricks: Run File as Workflow on Databricks` command."
   ]
  },
  {
   "cell_type": "code",
   "execution_count": 0,
   "metadata": {
    "application/vnd.databricks.v1+cell": {
     "cellMetadata": {
      "byteLimit": 2048000,
      "rowLimit": 10000
     },
     "inputWidgets": {},
     "nuid": "ced29aee-dd1b-46cf-840c-53f080666e41",
     "showTitle": false,
     "title": ""
    }
   },
   "outputs": [],
   "source": [
    "import random\n",
    "\n",
    "start_epoch = 1684540800\n",
    "end_epoch = 1685620800\n",
    "day = 86400\n",
    "\n",
    "cows = ['Butterscotch','Hershey','Mocha','Nutella','Brandy','Peaches','Marshmallow','Popcorn','Muffin','Daisy','Buttercup','Dottie','Magic','Nellie',]\n",
    "\n",
    "meal_1_start = 32400\n",
    "\n",
    "#we will only focus on one meal\n",
    "meal_2_start = 64800\n",
    "\n",
    "meal_duration_start = -600\n",
    "meal_duration_end = 2400\n",
    "\n"
   ]
  },
  {
   "cell_type": "code",
   "execution_count": 0,
   "metadata": {
    "application/vnd.databricks.v1+cell": {
     "cellMetadata": {
      "byteLimit": 2048000,
      "implicitDf": true,
      "rowLimit": 10000
     },
     "inputWidgets": {},
     "nuid": "4dc10d50-b717-4eab-be1a-dbf963faee3b",
     "showTitle": false,
     "title": ""
    }
   },
   "outputs": [],
   "source": [
    "%sql\n",
    "use catalog farm;"
   ]
  },
  {
   "cell_type": "code",
   "execution_count": 0,
   "metadata": {
    "application/vnd.databricks.v1+cell": {
     "cellMetadata": {
      "implicitDf": true
     },
     "inputWidgets": {},
     "nuid": "3afadf43-09dc-4512-aff3-72b2560bb8ea",
     "showTitle": false,
     "title": ""
    },
    "vscode": {
     "languageId": "sql"
    }
   },
   "outputs": [],
   "source": [
    "%sql\n",
    "create schema if not exists db;"
   ]
  },
  {
   "cell_type": "code",
   "execution_count": 0,
   "metadata": {
    "application/vnd.databricks.v1+cell": {
     "cellMetadata": {
      "implicitDf": true
     },
     "inputWidgets": {},
     "nuid": "a371bdf1-c2d0-41ca-ab1f-15907ed083f6",
     "showTitle": false,
     "title": ""
    },
    "vscode": {
     "languageId": "sql"
    }
   },
   "outputs": [],
   "source": [
    "%sql\n",
    "drop table if exists db.cows_bff;"
   ]
  },
  {
   "cell_type": "code",
   "execution_count": 0,
   "metadata": {
    "application/vnd.databricks.v1+cell": {
     "cellMetadata": {
      "byteLimit": 2048000,
      "rowLimit": 10000
     },
     "inputWidgets": {},
     "nuid": "ed9121fc-0861-4b8b-8e34-6e8fe0889e47",
     "showTitle": false,
     "title": ""
    }
   },
   "outputs": [],
   "source": [
    "index = start_epoch\n",
    "import pandas as pd\n",
    "import datetime\n",
    "import calendar\n",
    "meal_data2 = None\n",
    "data =[]\n",
    "while True:\n",
    "  if index > end_epoch:\n",
    "    break;\n",
    "  date = datetime.datetime.fromtimestamp(index)\n",
    "  for cow in cows:\n",
    "    r1 = random.randint(meal_duration_start, meal_duration_end)\n",
    "    r2 = random.randint(meal_duration_start, meal_duration_end)\n",
    "    begin = r1\n",
    "    end = r2\n",
    "    if r1 > r2:\n",
    "      begin = r2\n",
    "      end = r1\n",
    "    meal_start_seconds = round(meal_1_start+begin)\n",
    "    meal_end_seconds = round(meal_1_start+end)\n",
    "    meal_data1 = {\n",
    "      'cow_name': cow,\n",
    "      'meal_start': meal_start_seconds, \n",
    "      'meal_end': meal_end_seconds,\n",
    "      'meal_start_time':str(datetime.timedelta(seconds=meal_start_seconds)), \n",
    "      'meal_end_time':str(datetime.timedelta(seconds=meal_end_seconds)),\n",
    "      'duration': meal_end_seconds-meal_start_seconds,\n",
    "      'date': date,\n",
    "      'day': calendar.day_name[date.weekday()]}\n",
    "    data.append(meal_data1)\n",
    "    # we cheat and add Mocha's best friend Cocoa\n",
    "    if(cow=='Mocha'):\n",
    "      cocoa_meal_start_seconds = round(meal_start_seconds - (random.randint(0,500)/10000.0))\n",
    "      cocoa_meal_end_seconds = round(meal_end_seconds- (random.randint(0,500)/10000.0))\n",
    "      meal_data2 = {\n",
    "        'cow_name': 'Cocoa',\n",
    "        'meal_start': cocoa_meal_start_seconds, \n",
    "        'meal_end': cocoa_meal_end_seconds,\n",
    "        'meal_start_time': str(datetime.timedelta(seconds=cocoa_meal_start_seconds)), \n",
    "        'meal_end_time': str(datetime.timedelta(seconds=cocoa_meal_end_seconds)),\n",
    "        'duration': cocoa_meal_end_seconds-cocoa_meal_start_seconds,\n",
    "        'date': date,\n",
    "        'day': calendar.day_name[date.weekday()]}\n",
    "      data.append(meal_data2)\n",
    "    \n",
    "  index = index + day\n",
    "  df = pd.DataFrame(data)\n",
    "  "
   ]
  },
  {
   "cell_type": "code",
   "execution_count": 0,
   "metadata": {
    "application/vnd.databricks.v1+cell": {
     "cellMetadata": {
      "byteLimit": 2048000,
      "rowLimit": 10000
     },
     "inputWidgets": {},
     "nuid": "a028213b-c131-477d-9e77-bd62c2b3aebc",
     "showTitle": false,
     "title": ""
    }
   },
   "outputs": [],
   "source": [
    "# save data into table\n",
    "spark_df = spark.createDataFrame(df)\n",
    "\n",
    "## Write Frame out as Table\n",
    "spark_df.write.mode(\"overwrite\").saveAsTable(\"db.cows_bff\")"
   ]
  },
  {
   "cell_type": "code",
   "execution_count": 0,
   "metadata": {
    "application/vnd.databricks.v1+cell": {
     "cellMetadata": {
      "byteLimit": 2048000,
      "rowLimit": 10000
     },
     "inputWidgets": {},
     "nuid": "b9bca86e-fd00-4308-bd2a-3d5a06c619f2",
     "showTitle": false,
     "title": ""
    }
   },
   "outputs": [],
   "source": [
    "display(spark_df)"
   ]
  }
 ],
 "metadata": {
  "application/vnd.databricks.v1+notebook": {
   "dashboards": [],
   "language": "python",
   "notebookMetadata": {
    "mostRecentlyExecutedCommandWithImplicitDF": {
     "commandId": 1980095213248946,
     "dataframes": [
      "_sqldf"
     ]
    },
    "pythonIndentUnit": 2
   },
   "notebookName": "Generate Cow Data",
   "widgets": {}
  },
  "kernelspec": {
   "display_name": ".venv",
   "language": "python",
   "name": "python3"
  },
  "language_info": {
   "codemirror_mode": {
    "name": "ipython",
    "version": 3
   },
   "file_extension": ".py",
   "mimetype": "text/x-python",
   "name": "python",
   "nbconvert_exporter": "python",
   "pygments_lexer": "ipython3",
   "version": "3.10.11"
  },
  "orig_nbformat": 4
 },
 "nbformat": 4,
 "nbformat_minor": 0
}
