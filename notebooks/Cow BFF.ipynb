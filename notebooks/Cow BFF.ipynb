{
 "cells": [
  {
   "attachments": {},
   "cell_type": "markdown",
   "metadata": {
    "application/vnd.databricks.v1+cell": {
     "cellMetadata": {
      "byteLimit": 2048000,
      "rowLimit": 10000
     },
     "inputWidgets": {},
     "nuid": "1150ad03-d27d-41cd-9d3e-5d717b80a08e",
     "showTitle": false,
     "title": ""
    }
   },
   "source": [
    "## First we initialize our globals"
   ]
  },
  {
   "cell_type": "code",
   "execution_count": 1,
   "metadata": {},
   "outputs": [],
   "source": [
    "%load_ext autoreload\n",
    "%autoreload 2"
   ]
  },
  {
   "cell_type": "code",
   "execution_count": 2,
   "metadata": {},
   "outputs": [],
   "source": [
    "from databricks.connect import DatabricksSession\n",
    "spark = DatabricksSession.builder.getOrCreate()"
   ]
  },
  {
   "cell_type": "code",
   "execution_count": 3,
   "metadata": {},
   "outputs": [],
   "source": [
    "# add project dir to python path\n",
    "try:\n",
    "    notebook_path = dbutils.notebook.entry_point.getDbutils().notebook().getContext().notebookPath().get()\n",
    "    import sys, os\n",
    "    sys.path.append(\"/Workspace\" + os.path.dirname(os.path.dirname(notebook_path)))\n",
    "except:\n",
    "    pass"
   ]
  },
  {
   "cell_type": "code",
   "execution_count": 4,
   "metadata": {
    "application/vnd.databricks.v1+cell": {
     "cellMetadata": {
      "byteLimit": 2048000,
      "rowLimit": 10000
     },
     "inputWidgets": {},
     "nuid": "db31f2e5-6f73-4b4a-9735-48e5fb1a4cea",
     "showTitle": false,
     "title": ""
    }
   },
   "outputs": [],
   "source": [
    "# load table into spark dataframe\n",
    "cows_bff = spark.read.table(\"farm.db.cows_bff\")"
   ]
  },
  {
   "attachments": {},
   "cell_type": "markdown",
   "metadata": {
    "application/vnd.databricks.v1+cell": {
     "cellMetadata": {
      "byteLimit": 2048000,
      "rowLimit": 10000
     },
     "inputWidgets": {},
     "nuid": "e077744e-aee4-462b-b53c-d34955da8e92",
     "showTitle": false,
     "title": ""
    }
   },
   "source": [
    "## Some graphs and charts"
   ]
  },
  {
   "cell_type": "code",
   "execution_count": 5,
   "metadata": {
    "application/vnd.databricks.v1+cell": {
     "cellMetadata": {
      "byteLimit": 2048000,
      "rowLimit": 10000
     },
     "inputWidgets": {},
     "nuid": "eafa5b74-fd93-418e-a855-c20aecd86ec0",
     "showTitle": false,
     "title": ""
    }
   },
   "outputs": [
    {
     "name": "stderr",
     "output_type": "stream",
     "text": [
      "/Users/kimberly.mahoney/.pyenv/versions/3.10.12/envs/cows-bff/lib/python3.10/site-packages/pyspark/sql/pandas/types.py:567: FutureWarning: is_datetime64tz_dtype is deprecated and will be removed in a future version. Check `isinstance(dtype, pd.DatetimeTZDtype)` instead.\n",
      "  if not is_datetime64tz_dtype(pser.dtype):\n",
      "/Users/kimberly.mahoney/.pyenv/versions/3.10.12/envs/cows-bff/lib/python3.10/site-packages/pyspark/sql/pandas/types.py:386: FutureWarning: is_datetime64tz_dtype is deprecated and will be removed in a future version. Check `isinstance(dtype, pd.DatetimeTZDtype)` instead.\n",
      "  if is_datetime64tz_dtype(s.dtype):\n"
     ]
    },
    {
     "data": {
      "text/html": [
       "<table border=\"1\" class=\"dataframe\">\n",
       "  <thead>\n",
       "    <tr style=\"text-align: right;\">\n",
       "      <th></th>\n",
       "      <th>cow_name</th>\n",
       "      <th>meal_start</th>\n",
       "      <th>meal_end</th>\n",
       "      <th>meal_start_time</th>\n",
       "      <th>meal_end_time</th>\n",
       "      <th>duration</th>\n",
       "      <th>date</th>\n",
       "      <th>day</th>\n",
       "    </tr>\n",
       "  </thead>\n",
       "  <tbody>\n",
       "    <tr>\n",
       "      <th>0</th>\n",
       "      <td>Butterscotch</td>\n",
       "      <td>32171</td>\n",
       "      <td>34719</td>\n",
       "      <td>8:56:11</td>\n",
       "      <td>9:38:39</td>\n",
       "      <td>2548</td>\n",
       "      <td>2023-05-20</td>\n",
       "      <td>Saturday</td>\n",
       "    </tr>\n",
       "    <tr>\n",
       "      <th>1</th>\n",
       "      <td>Hershey</td>\n",
       "      <td>34538</td>\n",
       "      <td>34757</td>\n",
       "      <td>9:35:38</td>\n",
       "      <td>9:39:17</td>\n",
       "      <td>219</td>\n",
       "      <td>2023-05-20</td>\n",
       "      <td>Saturday</td>\n",
       "    </tr>\n",
       "    <tr>\n",
       "      <th>2</th>\n",
       "      <td>Mocha</td>\n",
       "      <td>33395</td>\n",
       "      <td>34697</td>\n",
       "      <td>9:16:35</td>\n",
       "      <td>9:38:17</td>\n",
       "      <td>1302</td>\n",
       "      <td>2023-05-20</td>\n",
       "      <td>Saturday</td>\n",
       "    </tr>\n",
       "    <tr>\n",
       "      <th>3</th>\n",
       "      <td>Cocoa</td>\n",
       "      <td>33395</td>\n",
       "      <td>34697</td>\n",
       "      <td>9:16:35</td>\n",
       "      <td>9:38:17</td>\n",
       "      <td>1302</td>\n",
       "      <td>2023-05-20</td>\n",
       "      <td>Saturday</td>\n",
       "    </tr>\n",
       "    <tr>\n",
       "      <th>4</th>\n",
       "      <td>Nutella</td>\n",
       "      <td>31874</td>\n",
       "      <td>33348</td>\n",
       "      <td>8:51:14</td>\n",
       "      <td>9:15:48</td>\n",
       "      <td>1474</td>\n",
       "      <td>2023-05-20</td>\n",
       "      <td>Saturday</td>\n",
       "    </tr>\n",
       "    <tr>\n",
       "      <th>5</th>\n",
       "      <td>Brandy</td>\n",
       "      <td>32597</td>\n",
       "      <td>34302</td>\n",
       "      <td>9:03:17</td>\n",
       "      <td>9:31:42</td>\n",
       "      <td>1705</td>\n",
       "      <td>2023-05-20</td>\n",
       "      <td>Saturday</td>\n",
       "    </tr>\n",
       "    <tr>\n",
       "      <th>6</th>\n",
       "      <td>Peaches</td>\n",
       "      <td>33373</td>\n",
       "      <td>33816</td>\n",
       "      <td>9:16:13</td>\n",
       "      <td>9:23:36</td>\n",
       "      <td>443</td>\n",
       "      <td>2023-05-20</td>\n",
       "      <td>Saturday</td>\n",
       "    </tr>\n",
       "    <tr>\n",
       "      <th>7</th>\n",
       "      <td>Marshmallow</td>\n",
       "      <td>32569</td>\n",
       "      <td>34581</td>\n",
       "      <td>9:02:49</td>\n",
       "      <td>9:36:21</td>\n",
       "      <td>2012</td>\n",
       "      <td>2023-05-20</td>\n",
       "      <td>Saturday</td>\n",
       "    </tr>\n",
       "    <tr>\n",
       "      <th>8</th>\n",
       "      <td>Popcorn</td>\n",
       "      <td>33251</td>\n",
       "      <td>34757</td>\n",
       "      <td>9:14:11</td>\n",
       "      <td>9:39:17</td>\n",
       "      <td>1506</td>\n",
       "      <td>2023-05-20</td>\n",
       "      <td>Saturday</td>\n",
       "    </tr>\n",
       "    <tr>\n",
       "      <th>9</th>\n",
       "      <td>Muffin</td>\n",
       "      <td>32041</td>\n",
       "      <td>33446</td>\n",
       "      <td>8:54:01</td>\n",
       "      <td>9:17:26</td>\n",
       "      <td>1405</td>\n",
       "      <td>2023-05-20</td>\n",
       "      <td>Saturday</td>\n",
       "    </tr>\n",
       "  </tbody>\n",
       "</table>"
      ],
      "text/plain": [
       "DataFrame[cow_name: string, meal_start: bigint, meal_end: bigint, meal_start_time: string, meal_end_time: string, duration: bigint, date: timestamp, day: string]"
      ]
     },
     "metadata": {},
     "output_type": "display_data"
    }
   ],
   "source": [
    "display(cows_bff.limit(10))"
   ]
  },
  {
   "attachments": {},
   "cell_type": "markdown",
   "metadata": {
    "application/vnd.databricks.v1+cell": {
     "cellMetadata": {
      "byteLimit": 2048000,
      "rowLimit": 10000
     },
     "inputWidgets": {},
     "nuid": "a06f52cf-3601-4fa5-8041-bd1df249f2be",
     "showTitle": false,
     "title": ""
    }
   },
   "source": [
    "## Lets compute meal overlap"
   ]
  },
  {
   "cell_type": "code",
   "execution_count": 8,
   "metadata": {},
   "outputs": [
    {
     "name": "stdout",
     "output_type": "stream",
     "text": [
      "+------+------------+------------------+\n",
      "|  cow1|        cow2|          distance|\n",
      "+------+------------+------------------+\n",
      "|Brandy|   Buttercup|             536.0|\n",
      "|Brandy|Butterscotch| 533.9230769230769|\n",
      "|Brandy|       Cocoa| 519.3846153846154|\n",
      "|Brandy|       Daisy|511.15384615384613|\n",
      "|Brandy|      Dottie| 318.7692307692308|\n",
      "+------+------------+------------------+\n",
      "only showing top 5 rows\n",
      "\n"
     ]
    },
    {
     "ename": "NameError",
     "evalue": "name 'lit' is not defined",
     "output_type": "error",
     "traceback": [
      "\u001b[0;31m---------------------------------------------------------------------------\u001b[0m",
      "\u001b[0;31mNameError\u001b[0m                                 Traceback (most recent call last)",
      "\u001b[1;32m/Users/kimberly.mahoney/Documents/demos/tech-summit-cows-bff/notebooks/Cow BFF.ipynb Cell 9\u001b[0m line \u001b[0;36m5\n\u001b[1;32m      <a href='vscode-notebook-cell:/Users/kimberly.mahoney/Documents/demos/tech-summit-cows-bff/notebooks/Cow%20BFF.ipynb#X11sZmlsZQ%3D%3D?line=0'>1</a>\u001b[0m \u001b[39mfrom\u001b[39;00m \u001b[39mcow_bff\u001b[39;00m\u001b[39m.\u001b[39;00m\u001b[39mheatmap\u001b[39;00m \u001b[39mimport\u001b[39;00m compute_heatmap\n\u001b[1;32m      <a href='vscode-notebook-cell:/Users/kimberly.mahoney/Documents/demos/tech-summit-cows-bff/notebooks/Cow%20BFF.ipynb#X11sZmlsZQ%3D%3D?line=2'>3</a>\u001b[0m df \u001b[39m=\u001b[39m compute_heatmap(cows_bff)\n\u001b[0;32m----> <a href='vscode-notebook-cell:/Users/kimberly.mahoney/Documents/demos/tech-summit-cows-bff/notebooks/Cow%20BFF.ipynb#X11sZmlsZQ%3D%3D?line=4'>5</a>\u001b[0m df2 \u001b[39m=\u001b[39m df\u001b[39m.\u001b[39mwithColumn(\u001b[39m\"\u001b[39m\u001b[39mextra\u001b[39m\u001b[39m\"\u001b[39m, lit(\u001b[39m1\u001b[39m))\n\u001b[1;32m      <a href='vscode-notebook-cell:/Users/kimberly.mahoney/Documents/demos/tech-summit-cows-bff/notebooks/Cow%20BFF.ipynb#X11sZmlsZQ%3D%3D?line=6'>7</a>\u001b[0m display(df\u001b[39m.\u001b[39mlimit(\u001b[39m10\u001b[39m))\n",
      "\u001b[0;31mNameError\u001b[0m: name 'lit' is not defined"
     ]
    }
   ],
   "source": [
    "from cow_bff.heatmap import compute_heatmap\n",
    "\n",
    "df = compute_heatmap(cows_bff)\n",
    "\n",
    "display(df.limit(10))"
   ]
  },
  {
   "attachments": {},
   "cell_type": "markdown",
   "metadata": {},
   "source": [
    "# Display Heatmap"
   ]
  },
  {
   "cell_type": "code",
   "execution_count": 7,
   "metadata": {},
   "outputs": [
    {
     "data": {
      "application/vnd.plotly.v1+json": {
       "config": {
        "plotlyServerURL": "https://plot.ly"
       },
       "data": [
        {
         "coloraxis": "coloraxis",
         "hovertemplate": "Cow 2: %{x}<br>Cow 1: %{y}<br>Distance: %{z}<extra></extra>",
         "name": "0",
         "type": "heatmap",
         "x": [
          "Brandy",
          "Buttercup",
          "Butterscotch",
          "Cocoa",
          "Daisy",
          "Dottie",
          "Hershey",
          "Magic",
          "Marshmallow",
          "Mocha",
          "Muffin",
          "Nellie",
          "Nutella",
          "Peaches",
          "Popcorn"
         ],
         "xaxis": "x",
         "y": [
          "Brandy",
          "Buttercup",
          "Butterscotch",
          "Cocoa",
          "Daisy",
          "Dottie",
          "Hershey",
          "Magic",
          "Marshmallow",
          "Mocha",
          "Muffin",
          "Nellie",
          "Nutella",
          "Peaches",
          "Popcorn"
         ],
         "yaxis": "y",
         "z": [
          [
           0,
           536,
           533.9230769230769,
           519.3846153846154,
           511.15384615384613,
           318.7692307692308,
           428,
           422.15384615384613,
           600.0769230769231,
           519.3846153846154,
           534.6153846153846,
           288.84615384615387,
           435.0769230769231,
           254,
           351.46153846153845
          ],
          [
           536,
           0,
           489.46153846153845,
           493.7692307692308,
           279.9230769230769,
           419.15384615384613,
           193.76923076923077,
           347.2307692307692,
           675.4615384615385,
           493.7692307692308,
           424,
           444.15384615384613,
           365,
           258.9230769230769,
           479.6923076923077
          ],
          [
           533.9230769230769,
           489.46153846153845,
           0,
           556.4615384615385,
           505.38461538461536,
           420.2307692307692,
           574.3076923076923,
           591.6923076923077,
           657.6923076923077,
           556.4615384615385,
           384.61538461538464,
           455.0769230769231,
           480.38461538461536,
           317.15384615384613,
           420.46153846153845
          ],
          [
           519.3846153846154,
           493.7692307692308,
           556.4615384615385,
           0,
           506.53846153846155,
           297.2307692307692,
           608.1538461538462,
           303,
           671.0769230769231,
           1175,
           418.53846153846155,
           385.9230769230769,
           360.0769230769231,
           282.2307692307692,
           405.15384615384613
          ],
          [
           511.15384615384613,
           279.9230769230769,
           505.38461538461536,
           506.53846153846155,
           0,
           66.23076923076923,
           613.3846153846154,
           372.84615384615387,
           502.6923076923077,
           506.53846153846155,
           265.61538461538464,
           340.15384615384613,
           485.0769230769231,
           299.3076923076923,
           317.3076923076923
          ],
          [
           318.7692307692308,
           419.15384615384613,
           420.2307692307692,
           297.2307692307692,
           66.23076923076923,
           0,
           115.84615384615384,
           258,
           448.15384615384613,
           297.2307692307692,
           439.84615384615387,
           301.7692307692308,
           261.7692307692308,
           179.07692307692307,
           273.61538461538464
          ],
          [
           428,
           193.76923076923077,
           574.3076923076923,
           608.1538461538462,
           613.3846153846154,
           115.84615384615384,
           0,
           475.9230769230769,
           384.3076923076923,
           608.1538461538462,
           342,
           298.53846153846155,
           380.15384615384613,
           269.6923076923077,
           317.2307692307692
          ],
          [
           422.15384615384613,
           347.2307692307692,
           591.6923076923077,
           303,
           372.84615384615387,
           258,
           475.9230769230769,
           0,
           450.46153846153845,
           303,
           446.2307692307692,
           353.6923076923077,
           418.46153846153845,
           249.92307692307693,
           298.53846153846155
          ],
          [
           600.0769230769231,
           675.4615384615385,
           657.6923076923077,
           671.0769230769231,
           502.6923076923077,
           448.15384615384613,
           384.3076923076923,
           450.46153846153845,
           0,
           671.0769230769231,
           532.3846153846154,
           566.6153846153846,
           557.6153846153846,
           365.6923076923077,
           426.61538461538464
          ],
          [
           519.3846153846154,
           493.7692307692308,
           556.4615384615385,
           1175,
           506.53846153846155,
           297.2307692307692,
           608.1538461538462,
           303,
           671.0769230769231,
           0,
           418.53846153846155,
           385.9230769230769,
           360.0769230769231,
           282.2307692307692,
           405.15384615384613
          ],
          [
           534.6153846153846,
           424,
           384.61538461538464,
           418.53846153846155,
           265.61538461538464,
           439.84615384615387,
           342,
           446.2307692307692,
           532.3846153846154,
           418.53846153846155,
           0,
           281.15384615384613,
           438.3076923076923,
           197.15384615384616,
           293.0769230769231
          ],
          [
           288.84615384615387,
           444.15384615384613,
           455.0769230769231,
           385.9230769230769,
           340.15384615384613,
           301.7692307692308,
           298.53846153846155,
           353.6923076923077,
           566.6153846153846,
           385.9230769230769,
           281.15384615384613,
           0,
           290.7692307692308,
           292.38461538461536,
           264.46153846153845
          ],
          [
           435.0769230769231,
           365,
           480.38461538461536,
           360.0769230769231,
           485.0769230769231,
           261.7692307692308,
           380.15384615384613,
           418.46153846153845,
           557.6153846153846,
           360.0769230769231,
           438.3076923076923,
           290.7692307692308,
           0,
           189.92307692307693,
           344.3076923076923
          ],
          [
           254,
           258.9230769230769,
           317.15384615384613,
           282.2307692307692,
           299.3076923076923,
           179.07692307692307,
           269.6923076923077,
           249.92307692307693,
           365.6923076923077,
           282.2307692307692,
           197.15384615384616,
           292.38461538461536,
           189.92307692307693,
           0,
           193.23076923076923
          ],
          [
           351.46153846153845,
           479.6923076923077,
           420.46153846153845,
           405.15384615384613,
           317.3076923076923,
           273.61538461538464,
           317.2307692307692,
           298.53846153846155,
           426.61538461538464,
           405.15384615384613,
           293.0769230769231,
           264.46153846153845,
           344.3076923076923,
           193.23076923076923,
           0
          ]
         ]
        }
       ],
       "layout": {
        "coloraxis": {
         "colorbar": {
          "title": {
           "text": "Distance"
          }
         },
         "colorscale": [
          [
           0,
           "rgb(246, 210, 169)"
          ],
          [
           0.16666666666666666,
           "rgb(245, 183, 142)"
          ],
          [
           0.3333333333333333,
           "rgb(241, 156, 124)"
          ],
          [
           0.5,
           "rgb(234, 129, 113)"
          ],
          [
           0.6666666666666666,
           "rgb(221, 104, 108)"
          ],
          [
           0.8333333333333334,
           "rgb(202, 82, 104)"
          ],
          [
           1,
           "rgb(177, 63, 100)"
          ]
         ]
        },
        "height": 500,
        "template": {
         "data": {
          "bar": [
           {
            "error_x": {
             "color": "#2a3f5f"
            },
            "error_y": {
             "color": "#2a3f5f"
            },
            "marker": {
             "line": {
              "color": "#E5ECF6",
              "width": 0.5
             },
             "pattern": {
              "fillmode": "overlay",
              "size": 10,
              "solidity": 0.2
             }
            },
            "type": "bar"
           }
          ],
          "barpolar": [
           {
            "marker": {
             "line": {
              "color": "#E5ECF6",
              "width": 0.5
             },
             "pattern": {
              "fillmode": "overlay",
              "size": 10,
              "solidity": 0.2
             }
            },
            "type": "barpolar"
           }
          ],
          "carpet": [
           {
            "aaxis": {
             "endlinecolor": "#2a3f5f",
             "gridcolor": "white",
             "linecolor": "white",
             "minorgridcolor": "white",
             "startlinecolor": "#2a3f5f"
            },
            "baxis": {
             "endlinecolor": "#2a3f5f",
             "gridcolor": "white",
             "linecolor": "white",
             "minorgridcolor": "white",
             "startlinecolor": "#2a3f5f"
            },
            "type": "carpet"
           }
          ],
          "choropleth": [
           {
            "colorbar": {
             "outlinewidth": 0,
             "ticks": ""
            },
            "type": "choropleth"
           }
          ],
          "contour": [
           {
            "colorbar": {
             "outlinewidth": 0,
             "ticks": ""
            },
            "colorscale": [
             [
              0,
              "#0d0887"
             ],
             [
              0.1111111111111111,
              "#46039f"
             ],
             [
              0.2222222222222222,
              "#7201a8"
             ],
             [
              0.3333333333333333,
              "#9c179e"
             ],
             [
              0.4444444444444444,
              "#bd3786"
             ],
             [
              0.5555555555555556,
              "#d8576b"
             ],
             [
              0.6666666666666666,
              "#ed7953"
             ],
             [
              0.7777777777777778,
              "#fb9f3a"
             ],
             [
              0.8888888888888888,
              "#fdca26"
             ],
             [
              1,
              "#f0f921"
             ]
            ],
            "type": "contour"
           }
          ],
          "contourcarpet": [
           {
            "colorbar": {
             "outlinewidth": 0,
             "ticks": ""
            },
            "type": "contourcarpet"
           }
          ],
          "heatmap": [
           {
            "colorbar": {
             "outlinewidth": 0,
             "ticks": ""
            },
            "colorscale": [
             [
              0,
              "#0d0887"
             ],
             [
              0.1111111111111111,
              "#46039f"
             ],
             [
              0.2222222222222222,
              "#7201a8"
             ],
             [
              0.3333333333333333,
              "#9c179e"
             ],
             [
              0.4444444444444444,
              "#bd3786"
             ],
             [
              0.5555555555555556,
              "#d8576b"
             ],
             [
              0.6666666666666666,
              "#ed7953"
             ],
             [
              0.7777777777777778,
              "#fb9f3a"
             ],
             [
              0.8888888888888888,
              "#fdca26"
             ],
             [
              1,
              "#f0f921"
             ]
            ],
            "type": "heatmap"
           }
          ],
          "heatmapgl": [
           {
            "colorbar": {
             "outlinewidth": 0,
             "ticks": ""
            },
            "colorscale": [
             [
              0,
              "#0d0887"
             ],
             [
              0.1111111111111111,
              "#46039f"
             ],
             [
              0.2222222222222222,
              "#7201a8"
             ],
             [
              0.3333333333333333,
              "#9c179e"
             ],
             [
              0.4444444444444444,
              "#bd3786"
             ],
             [
              0.5555555555555556,
              "#d8576b"
             ],
             [
              0.6666666666666666,
              "#ed7953"
             ],
             [
              0.7777777777777778,
              "#fb9f3a"
             ],
             [
              0.8888888888888888,
              "#fdca26"
             ],
             [
              1,
              "#f0f921"
             ]
            ],
            "type": "heatmapgl"
           }
          ],
          "histogram": [
           {
            "marker": {
             "pattern": {
              "fillmode": "overlay",
              "size": 10,
              "solidity": 0.2
             }
            },
            "type": "histogram"
           }
          ],
          "histogram2d": [
           {
            "colorbar": {
             "outlinewidth": 0,
             "ticks": ""
            },
            "colorscale": [
             [
              0,
              "#0d0887"
             ],
             [
              0.1111111111111111,
              "#46039f"
             ],
             [
              0.2222222222222222,
              "#7201a8"
             ],
             [
              0.3333333333333333,
              "#9c179e"
             ],
             [
              0.4444444444444444,
              "#bd3786"
             ],
             [
              0.5555555555555556,
              "#d8576b"
             ],
             [
              0.6666666666666666,
              "#ed7953"
             ],
             [
              0.7777777777777778,
              "#fb9f3a"
             ],
             [
              0.8888888888888888,
              "#fdca26"
             ],
             [
              1,
              "#f0f921"
             ]
            ],
            "type": "histogram2d"
           }
          ],
          "histogram2dcontour": [
           {
            "colorbar": {
             "outlinewidth": 0,
             "ticks": ""
            },
            "colorscale": [
             [
              0,
              "#0d0887"
             ],
             [
              0.1111111111111111,
              "#46039f"
             ],
             [
              0.2222222222222222,
              "#7201a8"
             ],
             [
              0.3333333333333333,
              "#9c179e"
             ],
             [
              0.4444444444444444,
              "#bd3786"
             ],
             [
              0.5555555555555556,
              "#d8576b"
             ],
             [
              0.6666666666666666,
              "#ed7953"
             ],
             [
              0.7777777777777778,
              "#fb9f3a"
             ],
             [
              0.8888888888888888,
              "#fdca26"
             ],
             [
              1,
              "#f0f921"
             ]
            ],
            "type": "histogram2dcontour"
           }
          ],
          "mesh3d": [
           {
            "colorbar": {
             "outlinewidth": 0,
             "ticks": ""
            },
            "type": "mesh3d"
           }
          ],
          "parcoords": [
           {
            "line": {
             "colorbar": {
              "outlinewidth": 0,
              "ticks": ""
             }
            },
            "type": "parcoords"
           }
          ],
          "pie": [
           {
            "automargin": true,
            "type": "pie"
           }
          ],
          "scatter": [
           {
            "fillpattern": {
             "fillmode": "overlay",
             "size": 10,
             "solidity": 0.2
            },
            "type": "scatter"
           }
          ],
          "scatter3d": [
           {
            "line": {
             "colorbar": {
              "outlinewidth": 0,
              "ticks": ""
             }
            },
            "marker": {
             "colorbar": {
              "outlinewidth": 0,
              "ticks": ""
             }
            },
            "type": "scatter3d"
           }
          ],
          "scattercarpet": [
           {
            "marker": {
             "colorbar": {
              "outlinewidth": 0,
              "ticks": ""
             }
            },
            "type": "scattercarpet"
           }
          ],
          "scattergeo": [
           {
            "marker": {
             "colorbar": {
              "outlinewidth": 0,
              "ticks": ""
             }
            },
            "type": "scattergeo"
           }
          ],
          "scattergl": [
           {
            "marker": {
             "colorbar": {
              "outlinewidth": 0,
              "ticks": ""
             }
            },
            "type": "scattergl"
           }
          ],
          "scattermapbox": [
           {
            "marker": {
             "colorbar": {
              "outlinewidth": 0,
              "ticks": ""
             }
            },
            "type": "scattermapbox"
           }
          ],
          "scatterpolar": [
           {
            "marker": {
             "colorbar": {
              "outlinewidth": 0,
              "ticks": ""
             }
            },
            "type": "scatterpolar"
           }
          ],
          "scatterpolargl": [
           {
            "marker": {
             "colorbar": {
              "outlinewidth": 0,
              "ticks": ""
             }
            },
            "type": "scatterpolargl"
           }
          ],
          "scatterternary": [
           {
            "marker": {
             "colorbar": {
              "outlinewidth": 0,
              "ticks": ""
             }
            },
            "type": "scatterternary"
           }
          ],
          "surface": [
           {
            "colorbar": {
             "outlinewidth": 0,
             "ticks": ""
            },
            "colorscale": [
             [
              0,
              "#0d0887"
             ],
             [
              0.1111111111111111,
              "#46039f"
             ],
             [
              0.2222222222222222,
              "#7201a8"
             ],
             [
              0.3333333333333333,
              "#9c179e"
             ],
             [
              0.4444444444444444,
              "#bd3786"
             ],
             [
              0.5555555555555556,
              "#d8576b"
             ],
             [
              0.6666666666666666,
              "#ed7953"
             ],
             [
              0.7777777777777778,
              "#fb9f3a"
             ],
             [
              0.8888888888888888,
              "#fdca26"
             ],
             [
              1,
              "#f0f921"
             ]
            ],
            "type": "surface"
           }
          ],
          "table": [
           {
            "cells": {
             "fill": {
              "color": "#EBF0F8"
             },
             "line": {
              "color": "white"
             }
            },
            "header": {
             "fill": {
              "color": "#C8D4E3"
             },
             "line": {
              "color": "white"
             }
            },
            "type": "table"
           }
          ]
         },
         "layout": {
          "annotationdefaults": {
           "arrowcolor": "#2a3f5f",
           "arrowhead": 0,
           "arrowwidth": 1
          },
          "autotypenumbers": "strict",
          "coloraxis": {
           "colorbar": {
            "outlinewidth": 0,
            "ticks": ""
           }
          },
          "colorscale": {
           "diverging": [
            [
             0,
             "#8e0152"
            ],
            [
             0.1,
             "#c51b7d"
            ],
            [
             0.2,
             "#de77ae"
            ],
            [
             0.3,
             "#f1b6da"
            ],
            [
             0.4,
             "#fde0ef"
            ],
            [
             0.5,
             "#f7f7f7"
            ],
            [
             0.6,
             "#e6f5d0"
            ],
            [
             0.7,
             "#b8e186"
            ],
            [
             0.8,
             "#7fbc41"
            ],
            [
             0.9,
             "#4d9221"
            ],
            [
             1,
             "#276419"
            ]
           ],
           "sequential": [
            [
             0,
             "#0d0887"
            ],
            [
             0.1111111111111111,
             "#46039f"
            ],
            [
             0.2222222222222222,
             "#7201a8"
            ],
            [
             0.3333333333333333,
             "#9c179e"
            ],
            [
             0.4444444444444444,
             "#bd3786"
            ],
            [
             0.5555555555555556,
             "#d8576b"
            ],
            [
             0.6666666666666666,
             "#ed7953"
            ],
            [
             0.7777777777777778,
             "#fb9f3a"
            ],
            [
             0.8888888888888888,
             "#fdca26"
            ],
            [
             1,
             "#f0f921"
            ]
           ],
           "sequentialminus": [
            [
             0,
             "#0d0887"
            ],
            [
             0.1111111111111111,
             "#46039f"
            ],
            [
             0.2222222222222222,
             "#7201a8"
            ],
            [
             0.3333333333333333,
             "#9c179e"
            ],
            [
             0.4444444444444444,
             "#bd3786"
            ],
            [
             0.5555555555555556,
             "#d8576b"
            ],
            [
             0.6666666666666666,
             "#ed7953"
            ],
            [
             0.7777777777777778,
             "#fb9f3a"
            ],
            [
             0.8888888888888888,
             "#fdca26"
            ],
            [
             1,
             "#f0f921"
            ]
           ]
          },
          "colorway": [
           "#636efa",
           "#EF553B",
           "#00cc96",
           "#ab63fa",
           "#FFA15A",
           "#19d3f3",
           "#FF6692",
           "#B6E880",
           "#FF97FF",
           "#FECB52"
          ],
          "font": {
           "color": "#2a3f5f"
          },
          "geo": {
           "bgcolor": "white",
           "lakecolor": "white",
           "landcolor": "#E5ECF6",
           "showlakes": true,
           "showland": true,
           "subunitcolor": "white"
          },
          "hoverlabel": {
           "align": "left"
          },
          "hovermode": "closest",
          "mapbox": {
           "style": "light"
          },
          "paper_bgcolor": "white",
          "plot_bgcolor": "#E5ECF6",
          "polar": {
           "angularaxis": {
            "gridcolor": "white",
            "linecolor": "white",
            "ticks": ""
           },
           "bgcolor": "#E5ECF6",
           "radialaxis": {
            "gridcolor": "white",
            "linecolor": "white",
            "ticks": ""
           }
          },
          "scene": {
           "xaxis": {
            "backgroundcolor": "#E5ECF6",
            "gridcolor": "white",
            "gridwidth": 2,
            "linecolor": "white",
            "showbackground": true,
            "ticks": "",
            "zerolinecolor": "white"
           },
           "yaxis": {
            "backgroundcolor": "#E5ECF6",
            "gridcolor": "white",
            "gridwidth": 2,
            "linecolor": "white",
            "showbackground": true,
            "ticks": "",
            "zerolinecolor": "white"
           },
           "zaxis": {
            "backgroundcolor": "#E5ECF6",
            "gridcolor": "white",
            "gridwidth": 2,
            "linecolor": "white",
            "showbackground": true,
            "ticks": "",
            "zerolinecolor": "white"
           }
          },
          "shapedefaults": {
           "line": {
            "color": "#2a3f5f"
           }
          },
          "ternary": {
           "aaxis": {
            "gridcolor": "white",
            "linecolor": "white",
            "ticks": ""
           },
           "baxis": {
            "gridcolor": "white",
            "linecolor": "white",
            "ticks": ""
           },
           "bgcolor": "#E5ECF6",
           "caxis": {
            "gridcolor": "white",
            "linecolor": "white",
            "ticks": ""
           }
          },
          "title": {
           "x": 0.05
          },
          "xaxis": {
           "automargin": true,
           "gridcolor": "white",
           "linecolor": "white",
           "ticks": "",
           "title": {
            "standoff": 15
           },
           "zerolinecolor": "white",
           "zerolinewidth": 2
          },
          "yaxis": {
           "automargin": true,
           "gridcolor": "white",
           "linecolor": "white",
           "ticks": "",
           "title": {
            "standoff": 15
           },
           "zerolinecolor": "white",
           "zerolinewidth": 2
          }
         }
        },
        "title": {
         "text": "Cow BFFs"
        },
        "width": 800,
        "xaxis": {
         "anchor": "y",
         "constrain": "domain",
         "domain": [
          0,
          1
         ],
         "scaleanchor": "y",
         "title": {
          "text": "Cow 2"
         }
        },
        "yaxis": {
         "anchor": "x",
         "autorange": "reversed",
         "constrain": "domain",
         "domain": [
          0,
          1
         ],
         "title": {
          "text": "Cow 1"
         }
        }
       }
      }
     },
     "metadata": {},
     "output_type": "display_data"
    }
   ],
   "source": [
    "pdf = df.toPandas()\n",
    "pdf = pdf.pivot(index='cow1', columns='cow2', values='distance').fillna(0)\n",
    "\n",
    "import plotly.express as px\n",
    "fig = px.imshow(pdf, x=pdf.columns, y=pdf.index, labels=dict(x=\"Cow 2\", y=\"Cow 1\", color=\"Distance\"), title=\"Cow BFFs\", color_continuous_scale='redor')\n",
    "px.imshow(pdf, x=pdf.columns, y=pdf.index, labels=dict(x=\"Cow 2\", y=\"Cow 1\", color=\"Distance\"),)\n",
    "\n",
    "fig.update_layout(width=800,height=500)\n",
    "fig.show()\n"
   ]
  }
 ],
 "metadata": {
  "application/vnd.databricks.v1+notebook": {
   "dashboards": [],
   "language": "python",
   "notebookMetadata": {
    "mostRecentlyExecutedCommandWithImplicitDF": {
     "commandId": 1024381266358228,
     "dataframes": [
      "_sqldf"
     ]
    },
    "pythonIndentUnit": 2
   },
   "notebookName": "Cow BFF",
   "widgets": {}
  },
  "kernelspec": {
   "display_name": ".venv",
   "language": "python",
   "name": "python3"
  },
  "language_info": {
   "codemirror_mode": {
    "name": "ipython",
    "version": 3
   },
   "file_extension": ".py",
   "mimetype": "text/x-python",
   "name": "python",
   "nbconvert_exporter": "python",
   "pygments_lexer": "ipython3",
   "version": "3.10.12"
  }
 },
 "nbformat": 4,
 "nbformat_minor": 0
}
